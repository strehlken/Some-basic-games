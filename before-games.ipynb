{
 "cells": [
  {
   "cell_type": "markdown",
   "id": "8d1bf3ae",
   "metadata": {},
   "source": [
    "# Before games"
   ]
  },
  {
   "cell_type": "markdown",
   "id": "a7f9eb09",
   "metadata": {},
   "source": [
    "**20230803** The aim of this section will be to record analyses of basic betting problems in which we need only consider the action of a single player."
   ]
  },
  {
   "cell_type": "markdown",
   "id": "5f8062d1",
   "metadata": {},
   "source": [
    "## 1. Bet sizing"
   ]
  },
  {
   "cell_type": "markdown",
   "id": "7217f6c7",
   "metadata": {},
   "source": [
    "Suppose you have an option to take a bet which has positive expected value. How much should you bet? Naturally we'll assume the payoff and loss scales linearly with the bet size, so that if you bet twice as much you will gain or lose twice as much depending whether you win or lose the bet. In this situation, the expected value plainly increases with bet size so the expected value-maximizing answer is to simply bet as much as you are able.\n",
    "\n",
    "This strategy might make sense in some cases. However, this approach, known as the martingale strategy, has considerable risk in many situations. Consider a simple model for example, which is known as \"gambler's ruin\": You have probability $p\\in (0.5,1]$ of winning an amount equal to your bet, and probability $1-p$ of losing your bet. Each outcome is independent of others. If your starting bankroll is an amount $M$ and you bet everything you have as many times as you can, you will after $n$ bets have either $0$ or $2^nM$ in your bankroll. You will only have $2^nM$ if you win each of the $n$ bets, which happens with probability $p^n.$ If $p=1$ and you're certain to win every time, this is wonderful. Otherwise, $p<1$ and for $n$ very large $p^n<0.5.$ Eventually you have a very high probability of being broke. Note the expected value of this strategy after $n$ rounds is $(2p)^n M >M$ since $p>1/2,$ and in fact the expected value grows without bound as $n\\to\\infty.$ However, the probability of realizing any return converges to zero. In infinite time the player is almost surely broke although their expected value is infinite!\n",
    "\n",
    "So for this simple model it seems too risky to bet one's entire bankroll. But how much should one bet? Of course we don't expect that there is any one answer to this question, because as we can see it depends on what we're solving for: if we're solving for maximum expected value the answer is the risky bet. (To see this just note that if the strategy maximizes expected value after $n$ rounds it must do so for a single round because all rounds are independent.) To avoid this answer we need to introduce a different constraint. For example, we could require that our probability of going broke is zero and our expected value is as large as possible. If we are allowed fractional bets of infinitely small size this leads us to choose a share of our bankroll as close to $1$ as possible but there is no unique maximum. So we need a better constraint.\n",
    "\n",
    "The goal here is to use programming to explore, so rather than theorize further we will create a simulation to see what happens to players adopting various strategies over time and then form a hypothesis around what we should solve for."
   ]
  },
  {
   "cell_type": "code",
   "execution_count": null,
   "id": "210bf22b",
   "metadata": {},
   "outputs": [],
   "source": [
    "import random\n",
    "\n",
    "p = 0.6\n",
    "M = 1"
   ]
  }
 ],
 "metadata": {
  "kernelspec": {
   "display_name": "Python 3 (ipykernel)",
   "language": "python",
   "name": "python3"
  },
  "language_info": {
   "codemirror_mode": {
    "name": "ipython",
    "version": 3
   },
   "file_extension": ".py",
   "mimetype": "text/x-python",
   "name": "python",
   "nbconvert_exporter": "python",
   "pygments_lexer": "ipython3",
   "version": "3.9.16"
  }
 },
 "nbformat": 4,
 "nbformat_minor": 5
}
